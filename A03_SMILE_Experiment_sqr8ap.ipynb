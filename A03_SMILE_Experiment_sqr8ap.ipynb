{
 "cells": [
  {
   "cell_type": "markdown",
   "id": "c845c067",
   "metadata": {},
   "source": [
    "## Assignment03: SMILE Experiment\n",
    "### Sam Remmey, sqr8ap\n",
    "#### Collaborated with Sara Grace Kennedy (sgk9hr) and used code from the lessons"
   ]
  },
  {
   "cell_type": "code",
   "execution_count": 14,
   "id": "4438e862",
   "metadata": {},
   "outputs": [],
   "source": [
    "import random\n",
    "import csv\n",
    "from copy import deepcopy\n",
    "import pickle\n",
    "import os\n",
    "import pandas as pd\n",
    "from smile.common import *"
   ]
  },
  {
   "cell_type": "code",
   "execution_count": 15,
   "id": "8f82f7d8",
   "metadata": {},
   "outputs": [],
   "source": [
    "os.chdir('/Users/Samantha/Desktop/PSYC4215')"
   ]
  },
  {
   "cell_type": "code",
   "execution_count": 16,
   "id": "771b99ef",
   "metadata": {},
   "outputs": [],
   "source": [
    "def read_and_shuffle(pool_file):\n",
    "    \"\"\"Read in and shuffle a pool.\"\"\"\n",
    "    # create a dictionary reader\n",
    "    dr = csv.DictReader(open(pool_file, 'r'))\n",
    "\n",
    "    # read in all the lines into a list of dicts\n",
    "    pool = [l for l in dr]\n",
    "\n",
    "    # shuffle it so that the we get new items each time\n",
    "    random.shuffle(pool)\n",
    "    \n",
    "    # report out some pool info\n",
    "    print(pool_file, len(pool))\n",
    "\n",
    "    # return the shuffled pool\n",
    "    return pool"
   ]
  },
  {
   "cell_type": "markdown",
   "id": "f5607bcb",
   "metadata": {},
   "source": [
    "### Configuration"
   ]
  },
  {
   "cell_type": "code",
   "execution_count": 17,
   "id": "fe50c9ec",
   "metadata": {},
   "outputs": [],
   "source": [
    "pool_files = {'pos': 'pos_pool.csv',\n",
    "              'neg': 'neg_pool.csv',\n",
    "              'neu': 'neu_pool.csv'}\n",
    "\n",
    "rep_conds = ['once', 'repeat', 'refresh']\n",
    "val_conds = ['pos', 'neg', 'neu']\n",
    "\n",
    "# what to show for refreshed items\n",
    "ref_text = '+'\n",
    "\n",
    "num_reps = 1\n",
    "num_blocks = 2\n",
    "display_time = 1.5 # how long each word will be displayed for in the study trials\n",
    "font_size = 50\n",
    "resp_keys = ['F','J']\n",
    "ISI_dur = 0.5 # inter-stimulus duration\n",
    "ISI_jitter = 0.5\n"
   ]
  },
  {
   "cell_type": "markdown",
   "id": "ccefc884",
   "metadata": {},
   "source": [
    "### List Generation"
   ]
  },
  {
   "cell_type": "code",
   "execution_count": 18,
   "id": "c1194b3c",
   "metadata": {},
   "outputs": [
    {
     "name": "stdout",
     "output_type": "stream",
     "text": [
      "pos_pool.csv 301\n",
      "neg_pool.csv 292\n",
      "neu_pool.csv 208\n"
     ]
    },
    {
     "data": {
      "text/plain": [
       "[{'description': 'travel',\n",
       "  'word_no': '1018',\n",
       "  'valence_mean': '7.0999999999999996',\n",
       "  'valence_sd': '2.0',\n",
       "  'arousal_mean': '6.21',\n",
       "  'arousal_sd': '2.5099999999999998',\n",
       "  'dominance_mean': '6.3099999999999996',\n",
       "  'dominance_sd': '2.0800000000000001',\n",
       "  'word_frequency': '61'},\n",
       " {'description': 'waterfall',\n",
       "  'word_no': '487',\n",
       "  'valence_mean': '7.8799999999999999',\n",
       "  'valence_sd': '1.03',\n",
       "  'arousal_mean': '5.3700000000000001',\n",
       "  'arousal_sd': '2.8399999999999999',\n",
       "  'dominance_mean': '5.2000000000000002',\n",
       "  'dominance_sd': '2.1800000000000002',\n",
       "  'word_frequency': '2'},\n",
       " {'description': 'youth',\n",
       "  'word_no': '1039',\n",
       "  'valence_mean': '6.75',\n",
       "  'valence_sd': '2.29',\n",
       "  'arousal_mean': '5.6699999999999999',\n",
       "  'arousal_sd': '2.52',\n",
       "  'dominance_mean': '5.1100000000000003',\n",
       "  'dominance_sd': '2.5499999999999998',\n",
       "  'word_frequency': '82'},\n",
       " {'description': 'awed',\n",
       "  'word_no': '30',\n",
       "  'valence_mean': '6.7000000000000002',\n",
       "  'valence_sd': '1.3799999999999999',\n",
       "  'arousal_mean': '5.7400000000000002',\n",
       "  'arousal_sd': '2.3100000000000001',\n",
       "  'dominance_mean': '5.2999999999999998',\n",
       "  'dominance_sd': '2.0299999999999998',\n",
       "  'word_frequency': '5'},\n",
       " {'description': 'twilight',\n",
       "  'word_no': '1022',\n",
       "  'valence_mean': '7.2300000000000004',\n",
       "  'valence_sd': '1.8',\n",
       "  'arousal_mean': '4.7000000000000002',\n",
       "  'arousal_sd': '2.4100000000000001',\n",
       "  'dominance_mean': '5.5899999999999999',\n",
       "  'dominance_sd': '1.8200000000000001',\n",
       "  'word_frequency': '4'}]"
      ]
     },
     "execution_count": 18,
     "metadata": {},
     "output_type": "execute_result"
    }
   ],
   "source": [
    "# read all the pools into a dictionary\n",
    "pools = {val: read_and_shuffle(pool_files[val])\n",
    "         for val in val_conds}\n",
    "\n",
    "# show the first 5 items of the pos pool\n",
    "pools['pos'][:5]"
   ]
  },
  {
   "cell_type": "code",
   "execution_count": 19,
   "id": "d90c923c",
   "metadata": {},
   "outputs": [
    {
     "data": {
      "text/plain": [
       "[{'valence': 'pos', 'cond': 'once'},\n",
       " {'valence': 'pos', 'cond': 'repeat'},\n",
       " {'valence': 'pos', 'cond': 'refresh'},\n",
       " {'valence': 'neg', 'cond': 'once'},\n",
       " {'valence': 'neg', 'cond': 'repeat'},\n",
       " {'valence': 'neg', 'cond': 'refresh'},\n",
       " {'valence': 'neu', 'cond': 'once'},\n",
       " {'valence': 'neu', 'cond': 'repeat'},\n",
       " {'valence': 'neu', 'cond': 'refresh'}]"
      ]
     },
     "execution_count": 19,
     "metadata": {},
     "output_type": "execute_result"
    }
   ],
   "source": [
    "# create the conds\n",
    "# fully crossed with all combos of val and rep\n",
    "conds = []\n",
    "for val in val_conds:\n",
    "    for rep in rep_conds:\n",
    "        # I decided to call the repetition condition cond\n",
    "        conds.append({'valence': val, 'cond': rep})\n",
    "conds"
   ]
  },
  {
   "cell_type": "code",
   "execution_count": 20,
   "id": "f0ed4196",
   "metadata": {},
   "outputs": [],
   "source": [
    "# make a function for generating a block\n",
    "# with a study and test list\n",
    "def make_block():\n",
    "    \"\"\"Generate a block, uses global variables\"\"\"\n",
    "    # loop and create the repeated conditions\n",
    "    block_conds = []\n",
    "    for i in range(num_reps):\n",
    "        # extend the trials with copies of the conditions\n",
    "        block_conds.extend(deepcopy(conds))\n",
    "\n",
    "    # shuffle the conds for that block\n",
    "    random.shuffle(block_conds)\n",
    "\n",
    "    # loop over block conds and add items to study/test lists\n",
    "    study_list = []\n",
    "    test_list = []\n",
    "    for cond in block_conds:\n",
    "        # use the valence to grab study and test items\n",
    "        study_item = pools[cond['valence']].pop()\n",
    "        test_item = pools[cond['valence']].pop()\n",
    "\n",
    "        # update with the cond info\n",
    "        study_item.update(cond)\n",
    "        test_item.update(cond)\n",
    "\n",
    "        # add in relevant info for study and test\n",
    "        study_item['pres_num'] = 1\n",
    "        study_item['type'] = 'target'\n",
    "        test_item['type'] = 'lure'\n",
    "        test_item['pres_num'] = 1   # just so the keys match\n",
    "\n",
    "        # append them to the respective lists\n",
    "        # study item is added to both study and test\n",
    "        study_list.append(study_item)\n",
    "        test_list.append(study_item)\n",
    "        test_list.append(test_item)\n",
    "\n",
    "        # process the repetition and refresh conditions\n",
    "        if cond['cond'] in ['refresh', 'repeat']:\n",
    "            # copy the study item\n",
    "            rep_item = deepcopy(study_item)\n",
    "\n",
    "            # modify required values\n",
    "            rep_item['pres_num'] = 2\n",
    "\n",
    "            # change the description if refreshing\n",
    "            if cond['cond'] == 'refresh':\n",
    "                rep_item['description'] = ref_text\n",
    "\n",
    "            # append it to the study list\n",
    "            study_list.append(rep_item)\n",
    "            \n",
    "    # must shuffle the test list\n",
    "    random.shuffle(test_list)\n",
    "    \n",
    "    # make a dictionary to return\n",
    "    block = {'study': study_list, 'test': test_list}\n",
    "    \n",
    "    return block\n",
    "\n",
    "# generate the proper number of blocks\n",
    "blocks = []\n",
    "for b in range(num_blocks):\n",
    "    blocks.append(make_block())\n"
   ]
  },
  {
   "cell_type": "markdown",
   "id": "fd0bb678",
   "metadata": {},
   "source": [
    "### SMILE Experiment"
   ]
  },
  {
   "cell_type": "code",
   "execution_count": 21,
   "id": "ea9f9959",
   "metadata": {},
   "outputs": [
    {
     "data": {
      "text/plain": [
       "<LabelBuilder file='/var/folders/13/9xyr4p8x2kq9msv1m8ysrjq00000gn/T/ipykernel_67434/4199571324.py', line=49, name=None, id=15af0d850>"
      ]
     },
     "execution_count": 21,
     "metadata": {},
     "output_type": "execute_result"
    }
   ],
   "source": [
    "exp = Experiment(name='MEMORY', show_splash=False, fullscreen=False, debug=True)\n",
    "\n",
    "Wait(1.0)\n",
    "\n",
    "Label(text = f\"During this task you will first be presented with a series of words that you should study carefully. \\nYou will then be presented with another series of words, at which point you will be asked \\nto indicate whether each word is new- i.e., you have not seen it before, or old- i.e, you saw it in the previous series of words. \\nPress the F key for old and the J key for new. When presented with a \\'{ref_text}\\' symbol, you should refresh your memory\\n of the previous item.\", \n",
    "      duration = 15.0, font_size = 25)\n",
    "Wait(1.0)\n",
    "Label(text = 'Let\\'s begin!',duration=2.0)\n",
    "\n",
    "Wait(0.5)\n",
    "\n",
    "with Loop(blocks) as block:\n",
    "    Label(text = 'Press any key to begin the next block.')\n",
    "    with UntilDone():\n",
    "        KeyPress()\n",
    "    Wait(ISI_dur, jitter=ISI_jitter) # waiting before beginning block\n",
    "\n",
    "    # study list:\n",
    "    with Loop(block.current['study']) as trial: \n",
    "        stim = Label(text=trial.current['description'],\n",
    "                     font_size=font_size, duration=display_time)\n",
    "\n",
    "        Wait(ISI_dur, jitter=ISI_jitter)\n",
    "\n",
    "        Log(trial.current, name='study_memory',\n",
    "           stim_on=stim.appear_time)\n",
    "\n",
    "    # reminding participant which keys to press:\n",
    "    Label(text = 'Now you will be presented with the test list. \\nPress F if you have seen the word before and J if you have not.\\nPress any key to begin.',)\n",
    "    with UntilDone():\n",
    "        KeyPress()\n",
    "    Wait(ISI_dur, jitter=ISI_jitter)\n",
    "\n",
    "    # test list:\n",
    "    with Loop(block.current['test']) as trial:\n",
    "        stim = Label(text=trial.current['description'],\n",
    "                     font_size=font_size)\n",
    "        with UntilDone():\n",
    "            kp = KeyPress(keys=resp_keys)\n",
    "\n",
    "        Wait(ISI_dur, jitter=ISI_jitter)\n",
    "\n",
    "        Log(trial.current, name='test_memory',\n",
    "            stim_on=stim.appear_time,\n",
    "            resp=kp.pressed,\n",
    "            resp_time=kp.press_time)\n",
    "    \n",
    "# telling participant they're done\n",
    "Label(text = 'Congrats! You\\'re done!', duration = 2.0)\n",
    "\n",
    "\n",
    "    "
   ]
  },
  {
   "cell_type": "code",
   "execution_count": 22,
   "id": "489c4fc8",
   "metadata": {},
   "outputs": [],
   "source": [
    "exp.run()"
   ]
  },
  {
   "cell_type": "code",
   "execution_count": 3,
   "id": "3bcf1818",
   "metadata": {},
   "outputs": [],
   "source": [
    "# reading in some test data from the logs\n",
    "\n",
    "from smile.log import log2dl\n",
    "dl = log2dl('/Users/Samantha/Desktop/PSYC4215/data/MEMORY/test000/20231005_204948/log_test_memory_0.slog')"
   ]
  },
  {
   "cell_type": "code",
   "execution_count": 4,
   "id": "d8180e3f",
   "metadata": {},
   "outputs": [
    {
     "data": {
      "text/plain": [
       "[{'stim_on_time': 261919.471507541,\n",
       "  'stim_on_error': 0.0,\n",
       "  'resp': 'J',\n",
       "  'resp_time_time': 261920.6861710415,\n",
       "  'resp_time_error': 0.0017912085022544488,\n",
       "  'log_time': 261921.43553788672,\n",
       "  'description': 'joke',\n",
       "  'word_no': '826',\n",
       "  'valence_mean': '8.0999999999999996',\n",
       "  'valence_sd': '1.3600000000000001',\n",
       "  'arousal_mean': '6.7400000000000002',\n",
       "  'arousal_sd': '1.8400000000000001',\n",
       "  'dominance_mean': '6.1500000000000004',\n",
       "  'dominance_sd': '1.8600000000000001',\n",
       "  'word_frequency': '22',\n",
       "  'valence': 'pos',\n",
       "  'cond': 'refresh',\n",
       "  'type': 'lure',\n",
       "  'pres_num': 1,\n",
       "  'log_num': 0},\n",
       " {'stim_on_time': 261921.437863708,\n",
       "  'stim_on_error': 0.0,\n",
       "  'resp': 'F',\n",
       "  'resp_time_time': 261922.2763121245,\n",
       "  'resp_time_error': 0.00016245849838014692,\n",
       "  'log_time': 261923.0344231907,\n",
       "  'description': 'death',\n",
       "  'word_no': '100',\n",
       "  'valence_mean': '1.6100000000000001',\n",
       "  'valence_sd': '1.3999999999999999',\n",
       "  'arousal_mean': '4.5899999999999999',\n",
       "  'arousal_sd': '3.0699999999999998',\n",
       "  'dominance_mean': '3.4700000000000002',\n",
       "  'dominance_sd': '2.5',\n",
       "  'word_frequency': '277',\n",
       "  'valence': 'neg',\n",
       "  'cond': 'repeat',\n",
       "  'pres_num': 1,\n",
       "  'type': 'target',\n",
       "  'log_num': 0},\n",
       " {'stim_on_time': 261923.0382675,\n",
       "  'stim_on_error': 0.0,\n",
       "  'resp': 'F',\n",
       "  'resp_time_time': 261926.426294,\n",
       "  'resp_time_error': 0.00015949999215081334,\n",
       "  'log_time': 261926.97256374726,\n",
       "  'description': 'headlight',\n",
       "  'word_no': '785',\n",
       "  'valence_mean': '5.2400000000000002',\n",
       "  'valence_sd': '1.51',\n",
       "  'arousal_mean': '3.8100000000000001',\n",
       "  'arousal_sd': '2.2200000000000002',\n",
       "  'dominance_mean': '4.8799999999999999',\n",
       "  'dominance_sd': '1.47',\n",
       "  'word_frequency': '.',\n",
       "  'valence': 'neu',\n",
       "  'cond': 'repeat',\n",
       "  'pres_num': 1,\n",
       "  'type': 'target',\n",
       "  'log_num': 0},\n",
       " {'stim_on_time': 261926.987966083,\n",
       "  'stim_on_error': 0.0,\n",
       "  'resp': 'J',\n",
       "  'resp_time_time': 261928.11181899952,\n",
       "  'resp_time_error': 0.009480291497311555,\n",
       "  'log_time': 261928.9150264931,\n",
       "  'description': 'corpse',\n",
       "  'word_no': '86',\n",
       "  'valence_mean': '2.1800000000000002',\n",
       "  'valence_sd': '1.48',\n",
       "  'arousal_mean': '4.7400000000000002',\n",
       "  'arousal_sd': '2.9399999999999999',\n",
       "  'dominance_mean': '3.5899999999999999',\n",
       "  'dominance_sd': '2.4399999999999999',\n",
       "  'word_frequency': '7',\n",
       "  'valence': 'neg',\n",
       "  'cond': 'once',\n",
       "  'type': 'lure',\n",
       "  'pres_num': 1,\n",
       "  'log_num': 0},\n",
       " {'stim_on_time': 261928.938078375,\n",
       "  'stim_on_error': 0.0,\n",
       "  'resp': 'F',\n",
       "  'resp_time_time': 261929.7494743955,\n",
       "  'resp_time_error': 0.000161062489496544,\n",
       "  'log_time': 261930.580352863,\n",
       "  'description': 'aloof',\n",
       "  'word_no': '13',\n",
       "  'valence_mean': '4.9000000000000004',\n",
       "  'valence_sd': '1.9199999999999999',\n",
       "  'arousal_mean': '4.2800000000000002',\n",
       "  'arousal_sd': '2.1000000000000001',\n",
       "  'dominance_mean': '4.6900000000000004',\n",
       "  'dominance_sd': '1.9199999999999999',\n",
       "  'word_frequency': '5',\n",
       "  'valence': 'neu',\n",
       "  'cond': 'refresh',\n",
       "  'pres_num': 1,\n",
       "  'type': 'target',\n",
       "  'log_num': 0}]"
      ]
     },
     "execution_count": 4,
     "metadata": {},
     "output_type": "execute_result"
    }
   ],
   "source": [
    "dl[:5]"
   ]
  },
  {
   "cell_type": "code",
   "execution_count": null,
   "id": "151d4975",
   "metadata": {},
   "outputs": [],
   "source": []
  }
 ],
 "metadata": {
  "kernelspec": {
   "display_name": "Python [conda env:smile] *",
   "language": "python",
   "name": "conda-env-smile-py"
  },
  "language_info": {
   "codemirror_mode": {
    "name": "ipython",
    "version": 3
   },
   "file_extension": ".py",
   "mimetype": "text/x-python",
   "name": "python",
   "nbconvert_exporter": "python",
   "pygments_lexer": "ipython3",
   "version": "3.11.4"
  }
 },
 "nbformat": 4,
 "nbformat_minor": 5
}
