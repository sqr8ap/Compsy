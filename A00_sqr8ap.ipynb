{
  "cells": [
    {
      "cell_type": "code",
      "execution_count": null,
      "id": "5dd0e815",
      "metadata": {
        "id": "5dd0e815"
      },
      "outputs": [],
      "source": [
        "import numpy\n",
        "import os\n",
        "import pandas as pd\n",
        "import matplotlib.pyplot as plt\n",
        "os.chdir('/Users/Samantha/Desktop/swc-python/data')"
      ]
    },
    {
      "cell_type": "markdown",
      "source": [
        "test test test\n",
        "\n",
        "test test test again"
      ],
      "metadata": {
        "id": "5OsEg9poULXD"
      },
      "id": "5OsEg9poULXD"
    },
    {
      "cell_type": "markdown",
      "id": "9139e373",
      "metadata": {
        "id": "9139e373"
      },
      "source": [
        "## Section 1: Python Fundamentals"
      ]
    },
    {
      "cell_type": "markdown",
      "id": "144b5b4e",
      "metadata": {
        "id": "144b5b4e"
      },
      "source": [
        "#### question 1"
      ]
    },
    {
      "cell_type": "code",
      "execution_count": null,
      "id": "03ba787e",
      "metadata": {
        "id": "03ba787e"
      },
      "outputs": [],
      "source": [
        "mass = 47.5\n",
        "age = 122\n",
        "mass = mass * 2.0\n",
        "age = age - 20"
      ]
    },
    {
      "cell_type": "markdown",
      "id": "fe5b8ed7",
      "metadata": {
        "id": "fe5b8ed7"
      },
      "source": [
        "after those 4 lines, mass holds value of 95.0 and age holds value of 102"
      ]
    },
    {
      "cell_type": "markdown",
      "id": "1eae47cb",
      "metadata": {
        "id": "1eae47cb"
      },
      "source": [
        "#### question 2"
      ]
    },
    {
      "cell_type": "code",
      "execution_count": null,
      "id": "46c6f52e",
      "metadata": {
        "id": "46c6f52e",
        "outputId": "2b00c7c9-7088-4d72-ce61-6aa973a6ae94"
      },
      "outputs": [
        {
          "name": "stdout",
          "output_type": "stream",
          "text": [
            "Hopper Grace\n"
          ]
        }
      ],
      "source": [
        "first, second = 'Grace', 'Hopper'\n",
        "third, fourth = second, first\n",
        "print(third, fourth)"
      ]
    },
    {
      "cell_type": "markdown",
      "id": "3f7d9869",
      "metadata": {
        "id": "3f7d9869"
      },
      "source": [
        "#### question 3"
      ]
    },
    {
      "cell_type": "code",
      "execution_count": null,
      "id": "b0aaf01c",
      "metadata": {
        "id": "b0aaf01c"
      },
      "outputs": [],
      "source": [
        "planet = 'Earth' #string\n",
        "apples = 5 #int\n",
        "distance = 10.5 #float"
      ]
    },
    {
      "cell_type": "code",
      "execution_count": null,
      "id": "6bea1a3f",
      "metadata": {
        "id": "6bea1a3f",
        "outputId": "79aec620-382a-4322-8646-745e0b15e2b3"
      },
      "outputs": [
        {
          "name": "stdout",
          "output_type": "stream",
          "text": [
            "<class 'str'>\n",
            "<class 'int'>\n",
            "<class 'float'>\n"
          ]
        }
      ],
      "source": [
        "print(type(planet))\n",
        "print(type(apples))\n",
        "print(type(distance))"
      ]
    },
    {
      "cell_type": "markdown",
      "id": "0a57fe22",
      "metadata": {
        "id": "0a57fe22"
      },
      "source": [
        "## Section 2: Analyzing Patient Data"
      ]
    },
    {
      "cell_type": "code",
      "execution_count": null,
      "id": "baeae624",
      "metadata": {
        "id": "baeae624",
        "outputId": "9b867f16-b27f-49d4-8efd-b48d56248b41"
      },
      "outputs": [
        {
          "name": "stdout",
          "output_type": "stream",
          "text": [
            "first three characters: oxy\n",
            "last three characters: gen\n"
          ]
        }
      ],
      "source": [
        "element = 'oxygen'\n",
        "print('first three characters:', element[0:3])\n",
        "print('last three characters:', element[3:6])"
      ]
    },
    {
      "cell_type": "markdown",
      "id": "b6ec18a1",
      "metadata": {
        "id": "b6ec18a1"
      },
      "source": [
        "#### question 1"
      ]
    },
    {
      "cell_type": "code",
      "execution_count": null,
      "id": "c21ad073",
      "metadata": {
        "id": "c21ad073",
        "outputId": "b85754e2-53d2-4095-d68a-2388a8d70bde"
      },
      "outputs": [
        {
          "name": "stdout",
          "output_type": "stream",
          "text": [
            "oxyg\n",
            "en\n",
            "oxygen\n"
          ]
        }
      ],
      "source": [
        "print(element[:4]) #oxyg\n",
        "print(element[4:]) #en\n",
        "print(element[:]) #oxygen"
      ]
    },
    {
      "cell_type": "markdown",
      "id": "e18e5a99",
      "metadata": {
        "id": "e18e5a99"
      },
      "source": [
        "#### question 2"
      ]
    },
    {
      "cell_type": "code",
      "execution_count": null,
      "id": "3bac5994",
      "metadata": {
        "id": "3bac5994",
        "outputId": "e7868636-9e5d-4d19-999f-a6ba3c3075bb"
      },
      "outputs": [
        {
          "name": "stdout",
          "output_type": "stream",
          "text": [
            "n\n",
            "e\n"
          ]
        }
      ],
      "source": [
        "print(element[-1]) #n\n",
        "print(element[-2]) #e"
      ]
    },
    {
      "cell_type": "markdown",
      "id": "2b90319b",
      "metadata": {
        "id": "2b90319b"
      },
      "source": [
        "#### question 3"
      ]
    },
    {
      "cell_type": "code",
      "execution_count": null,
      "id": "3c3eaaa2",
      "metadata": {
        "id": "3c3eaaa2",
        "outputId": "d330f3d9-5c82-4cb3-aefb-e8ae774d0cb0"
      },
      "outputs": [
        {
          "name": "stdout",
          "output_type": "stream",
          "text": [
            "xyge\n"
          ]
        }
      ],
      "source": [
        "print(element[1:-1]) #this will print from index number 1 through index number -1; in this case, it'll be xyge because the the closing bracket is not inclusive"
      ]
    },
    {
      "cell_type": "markdown",
      "id": "f27eef64",
      "metadata": {
        "id": "f27eef64"
      },
      "source": [
        "#### question 4"
      ]
    },
    {
      "cell_type": "code",
      "execution_count": null,
      "id": "301b8450",
      "metadata": {
        "id": "301b8450",
        "outputId": "b4552164-295d-4777-e33b-80d8551a7993"
      },
      "outputs": [
        {
          "name": "stdout",
          "output_type": "stream",
          "text": [
            "try\n",
            "one\n",
            "hi\n"
          ]
        }
      ],
      "source": [
        "element = 'carpentry'\n",
        "print(element[-3:])\n",
        "element = 'clone'\n",
        "print(element[-3:])\n",
        "element = 'hi'\n",
        "print(element[-3:])"
      ]
    },
    {
      "cell_type": "markdown",
      "id": "9200243d",
      "metadata": {
        "id": "9200243d"
      },
      "source": [
        "#### question 5"
      ]
    },
    {
      "cell_type": "code",
      "execution_count": null,
      "id": "41abda9f",
      "metadata": {
        "id": "41abda9f"
      },
      "outputs": [],
      "source": [
        "data = numpy.loadtxt(fname='inflammation-01.csv', delimiter=',')"
      ]
    },
    {
      "cell_type": "code",
      "execution_count": null,
      "id": "e57b0202",
      "metadata": {
        "id": "e57b0202",
        "outputId": "a7526884-b811-410a-a879-338770b983f3"
      },
      "outputs": [
        {
          "data": {
            "text/plain": [
              "array([], shape=(0, 0), dtype=float64)"
            ]
          },
          "execution_count": 12,
          "metadata": {},
          "output_type": "execute_result"
        }
      ],
      "source": [
        "data[3:3, 4:4]"
      ]
    },
    {
      "cell_type": "code",
      "execution_count": null,
      "id": "21b2e6ba",
      "metadata": {
        "id": "21b2e6ba",
        "outputId": "bd74fbd3-36c7-4ffd-ee02-aea2ef714e45"
      },
      "outputs": [
        {
          "data": {
            "text/plain": [
              "array([], shape=(0, 40), dtype=float64)"
            ]
          },
          "execution_count": 13,
          "metadata": {},
          "output_type": "execute_result"
        }
      ],
      "source": [
        "data[3:3, :]"
      ]
    },
    {
      "cell_type": "markdown",
      "id": "a5bc3824",
      "metadata": {
        "id": "a5bc3824"
      },
      "source": [
        "#### question 6"
      ]
    },
    {
      "cell_type": "code",
      "execution_count": null,
      "id": "93f0f578",
      "metadata": {
        "id": "93f0f578",
        "outputId": "a2bcc500-0b05-4ed3-bc12-e90500ff905b"
      },
      "outputs": [
        {
          "name": "stdout",
          "output_type": "stream",
          "text": [
            "A = \n",
            "[[1 2 3]\n",
            " [4 5 6]\n",
            " [7 8 9]]\n",
            "B = \n",
            "[[1 2 3 1 2 3]\n",
            " [4 5 6 4 5 6]\n",
            " [7 8 9 7 8 9]]\n",
            "C = \n",
            "[[1 2 3]\n",
            " [4 5 6]\n",
            " [7 8 9]\n",
            " [1 2 3]\n",
            " [4 5 6]\n",
            " [7 8 9]]\n"
          ]
        }
      ],
      "source": [
        "A = numpy.array([[1,2,3], [4,5,6], [7, 8, 9]])\n",
        "print('A = ')\n",
        "print(A)\n",
        "\n",
        "B = numpy.hstack([A, A])\n",
        "print('B = ')\n",
        "print(B)\n",
        "\n",
        "C = numpy.vstack([A, A])\n",
        "print('C = ')\n",
        "print(C)"
      ]
    },
    {
      "cell_type": "code",
      "execution_count": null,
      "id": "c3905a9f",
      "metadata": {
        "id": "c3905a9f",
        "outputId": "ec14d69b-d20b-4f85-9352-53c6c2172a40"
      },
      "outputs": [
        {
          "name": "stdout",
          "output_type": "stream",
          "text": [
            "[[1 3]\n",
            " [4 6]\n",
            " [7 9]]\n"
          ]
        }
      ],
      "source": [
        "D = numpy.hstack((A[:,:1],A[:,-1:]))\n",
        "print(D)"
      ]
    },
    {
      "cell_type": "markdown",
      "id": "576890a2",
      "metadata": {
        "id": "576890a2"
      },
      "source": [
        "#### question 7"
      ]
    },
    {
      "cell_type": "code",
      "execution_count": null,
      "id": "701c51c9",
      "metadata": {
        "id": "701c51c9",
        "outputId": "def6efff-03a3-4126-b4bc-08b5fbb6da9e"
      },
      "outputs": [
        {
          "data": {
            "text/plain": [
              "array([[ 0.,  1.,  2., ...,  1., -3.,  0.],\n",
              "       [ 1.,  1., -1., ...,  0., -1.,  1.],\n",
              "       [ 1.,  0.,  2., ...,  0., -1.,  0.],\n",
              "       ...,\n",
              "       [ 1.,  0.,  0., ..., -1.,  0.,  0.],\n",
              "       [ 0.,  0.,  1., ..., -2.,  2., -2.],\n",
              "       [ 0.,  1., -1., ..., -2.,  0., -1.]])"
            ]
          },
          "execution_count": 16,
          "metadata": {},
          "output_type": "execute_result"
        }
      ],
      "source": [
        "numpy.diff(data, axis=1)"
      ]
    },
    {
      "cell_type": "markdown",
      "id": "67cbec42",
      "metadata": {
        "id": "67cbec42"
      },
      "source": [
        "#### question 8"
      ]
    },
    {
      "cell_type": "markdown",
      "id": "ad3e514d",
      "metadata": {
        "id": "ad3e514d"
      },
      "source": [
        "shape of array will be (60,39) because there's one less difference in columns than number of columns overall"
      ]
    },
    {
      "cell_type": "markdown",
      "id": "577f7694",
      "metadata": {
        "id": "577f7694"
      },
      "source": [
        "#### question 9"
      ]
    },
    {
      "cell_type": "code",
      "execution_count": null,
      "id": "da01897b",
      "metadata": {
        "id": "da01897b",
        "outputId": "5ea29096-0cdd-4138-d764-22683d05262d"
      },
      "outputs": [
        {
          "data": {
            "text/plain": [
              "array([ 7., 12., 11., 10., 11., 13., 10.,  8., 10., 10.,  7.,  7., 13.,\n",
              "        7., 10., 10.,  8., 10.,  9., 10., 13.,  7., 12.,  9., 12., 11.,\n",
              "       10., 10.,  7., 10., 11., 10.,  8., 11., 12., 10.,  9., 10., 13.,\n",
              "       10.,  7.,  7., 10., 13., 12.,  8.,  8., 10., 10.,  9.,  8., 13.,\n",
              "       10.,  7., 10.,  8., 12., 10.,  7., 12.])"
            ]
          },
          "execution_count": 17,
          "metadata": {},
          "output_type": "execute_result"
        }
      ],
      "source": [
        "numpy.amax(numpy.diff(data,axis=1),axis=1)"
      ]
    },
    {
      "cell_type": "markdown",
      "id": "5d32f919",
      "metadata": {
        "id": "5d32f919"
      },
      "source": [
        "## Section 3: Visualizing Tabular Data"
      ]
    },
    {
      "cell_type": "code",
      "execution_count": null,
      "id": "755858ac",
      "metadata": {
        "id": "755858ac",
        "outputId": "c7f280a4-9120-4d61-e919-c81322ba8a12"
      },
      "outputs": [
        {
          "data": {
            "image/png": "[encoded data removed]",
            "text/plain": [
              "<Figure size 1000x300 with 3 Axes>"
            ]
          },
          "metadata": {},
          "output_type": "display_data"
        }
      ],
      "source": [
        "data = numpy.loadtxt(fname='inflammation-01.csv', delimiter=',')\n",
        "\n",
        "fig = plt.figure(figsize=(10.0, 3.0))\n",
        "\n",
        "axes1 = fig.add_subplot(1, 3, 1)\n",
        "axes2 = fig.add_subplot(1, 3, 2)\n",
        "axes3 = fig.add_subplot(1, 3, 3)\n",
        "\n",
        "axes1.set_ylabel('average')\n",
        "axes1.plot(numpy.mean(data, axis=0))\n",
        "\n",
        "axes2.set_ylabel('max')\n",
        "axes2.plot(numpy.amax(data, axis=0))\n",
        "\n",
        "axes3.set_ylabel('min')\n",
        "axes3.plot(numpy.amin(data, axis=0))\n",
        "\n",
        "fig.tight_layout()\n",
        "\n",
        "plt.savefig('inflammation.png')\n",
        "plt.show()"
      ]
    },
    {
      "cell_type": "markdown",
      "id": "e6ae51fd",
      "metadata": {
        "id": "e6ae51fd"
      },
      "source": [
        "#### question 1"
      ]
    },
    {
      "cell_type": "markdown",
      "id": "12d0adf9",
      "metadata": {
        "id": "12d0adf9"
      },
      "source": [
        "the plots automatically scale to the min and max of the data set"
      ]
    },
    {
      "cell_type": "markdown",
      "id": "dcd8815f",
      "metadata": {
        "id": "dcd8815f"
      },
      "source": [
        "#### question 2"
      ]
    },
    {
      "cell_type": "code",
      "execution_count": null,
      "id": "f13dd0e2",
      "metadata": {
        "id": "f13dd0e2",
        "outputId": "12b4267a-a9fb-4f2e-e21b-cf9139d542ab"
      },
      "outputs": [
        {
          "data": {
            "text/plain": [
              "(0.0, 5.5)"
            ]
          },
          "execution_count": 19,
          "metadata": {},
          "output_type": "execute_result"
        }
      ],
      "source": [
        "min_data = numpy.amin(data, axis=0)\n",
        "axes3.set_ylabel('min')\n",
        "axes3.plot(min_data)\n",
        "axes3.set_ylim(numpy.amin(min_data), numpy.amax(min_data) * 1.1)"
      ]
    },
    {
      "cell_type": "markdown",
      "id": "06852ea4",
      "metadata": {
        "id": "06852ea4"
      },
      "source": [
        "#### question 3"
      ]
    },
    {
      "cell_type": "code",
      "execution_count": null,
      "id": "0c70c3ad",
      "metadata": {
        "id": "0c70c3ad",
        "outputId": "7f25ca56-23f1-42b2-bda6-eb446f4c7969"
      },
      "outputs": [
        {
          "data": {
            "image/png": "[encoded data removed]",
            "text/plain": [
              "<Figure size 1000x300 with 3 Axes>"
            ]
          },
          "metadata": {},
          "output_type": "display_data"
        }
      ],
      "source": [
        "data = numpy.loadtxt(fname='inflammation-01.csv', delimiter=',')\n",
        "\n",
        "fig = plt.figure(figsize=(10.0, 3.0))\n",
        "\n",
        "axes1 = fig.add_subplot(1, 3, 1)\n",
        "axes2 = fig.add_subplot(1, 3, 2)\n",
        "axes3 = fig.add_subplot(1, 3, 3)\n",
        "\n",
        "axes1.set_ylabel('average')\n",
        "axes1.plot(numpy.mean(data, axis=0), drawstyle='steps-mid')\n",
        "\n",
        "axes2.set_ylabel('max')\n",
        "axes2.plot(numpy.amax(data, axis=0), drawstyle='steps-mid')\n",
        "\n",
        "axes3.set_ylabel('min')\n",
        "axes3.plot(numpy.amin(data, axis=0), drawstyle='steps-mid')\n",
        "\n",
        "fig.tight_layout()\n",
        "plt.show()"
      ]
    },
    {
      "cell_type": "markdown",
      "id": "324c7067",
      "metadata": {
        "id": "324c7067"
      },
      "source": [
        "#### question 4"
      ]
    },
    {
      "cell_type": "code",
      "execution_count": null,
      "id": "ef9a8188",
      "metadata": {
        "id": "ef9a8188",
        "outputId": "95f85ece-a693-4bcc-a6bc-8621524a432e"
      },
      "outputs": [
        {
          "data": {
            "image/png": "[encoded data removed]",
            "text/plain": [
              "<Figure size 640x480 with 1 Axes>"
            ]
          },
          "metadata": {},
          "output_type": "display_data"
        }
      ],
      "source": [
        "stdPlot = plt.plot(numpy.std(data,axis=0))\n",
        "plt.show()"
      ]
    },
    {
      "cell_type": "markdown",
      "id": "3f2dfffc",
      "metadata": {
        "id": "3f2dfffc"
      },
      "source": [
        "#### question 5"
      ]
    },
    {
      "cell_type": "code",
      "execution_count": null,
      "id": "335e2378",
      "metadata": {
        "id": "335e2378",
        "outputId": "ad2eab9b-bd8d-4f96-e462-dcc39ca901b9"
      },
      "outputs": [
        {
          "data": {
            "image/png": "[encoded data removed]",
            "text/plain": [
              "<Figure size 300x1000 with 3 Axes>"
            ]
          },
          "metadata": {},
          "output_type": "display_data"
        }
      ],
      "source": [
        "fig = plt.figure(figsize=(3.0, 10.0))\n",
        "\n",
        "axes1 = fig.add_subplot(3, 1, 1)\n",
        "axes2 = fig.add_subplot(3, 1, 2)\n",
        "axes3 = fig.add_subplot(3, 1, 3)\n",
        "\n",
        "axes1.set_ylabel('average')\n",
        "axes1.plot(numpy.mean(data, axis=0))\n",
        "\n",
        "axes2.set_ylabel('max')\n",
        "axes2.plot(numpy.amax(data, axis=0))\n",
        "\n",
        "axes3.set_ylabel('min')\n",
        "axes3.plot(numpy.amin(data, axis=0))\n",
        "\n",
        "fig.tight_layout()\n",
        "\n",
        "plt.show()"
      ]
    },
    {
      "cell_type": "markdown",
      "id": "79ea66eb",
      "metadata": {
        "id": "79ea66eb"
      },
      "source": [
        "## Section 4: Storing Multiple Values in Lists"
      ]
    },
    {
      "cell_type": "markdown",
      "id": "ffffd409",
      "metadata": {
        "id": "ffffd409"
      },
      "source": [
        "#### question 1"
      ]
    },
    {
      "cell_type": "code",
      "execution_count": null,
      "id": "40d6cf0e",
      "metadata": {
        "id": "40d6cf0e",
        "outputId": "a5263786-d5da-481d-df1d-25258aec2544"
      },
      "outputs": [
        {
          "name": "stdout",
          "output_type": "stream",
          "text": [
            "mple\n",
            "[2, 3, 4, 5]\n"
          ]
        }
      ],
      "source": [
        "string1 = 'example'\n",
        "list1 = [0,1,2,3,4,5]\n",
        "print(string1[-4:])\n",
        "print(list1[-4:])"
      ]
    },
    {
      "cell_type": "markdown",
      "id": "7ec1336a",
      "metadata": {
        "id": "7ec1336a"
      },
      "source": [
        "#### question 2"
      ]
    },
    {
      "cell_type": "code",
      "execution_count": null,
      "id": "2eda0140",
      "metadata": {
        "id": "2eda0140"
      },
      "outputs": [],
      "source": [
        "beatles = \"In an octopus's garden in the shade\""
      ]
    },
    {
      "cell_type": "code",
      "execution_count": null,
      "id": "a8a78ad7",
      "metadata": {
        "id": "a8a78ad7",
        "outputId": "62e5f18a-c3fc-477d-8d0b-d3011e7924f3"
      },
      "outputs": [
        {
          "data": {
            "text/plain": [
              "'I notpssgre ntesae'"
            ]
          },
          "execution_count": 25,
          "metadata": {},
          "output_type": "execute_result"
        }
      ],
      "source": [
        "beatles[0:35:2]"
      ]
    },
    {
      "cell_type": "markdown",
      "id": "a253d5f0",
      "metadata": {
        "id": "a253d5f0"
      },
      "source": [
        "#### question 3"
      ]
    },
    {
      "cell_type": "code",
      "execution_count": null,
      "id": "7dc6fece",
      "metadata": {
        "id": "7dc6fece",
        "outputId": "fb360331-8e13-44aa-9c3c-7b5372a82c49"
      },
      "outputs": [
        {
          "name": "stdout",
          "output_type": "stream",
          "text": [
            "[2, 4, 6, 8, 10, 2, 4, 6, 8, 10]\n"
          ]
        }
      ],
      "source": [
        "# * concatenates the list together however many times is specified; for example * 2 would replicate the values of the list once and concatenate together, whereas * 3 would give you the list 3 times over, and so on\n",
        "# this specific example will output [2,4,6,8,10,2,4,6,8,10]\n",
        "counts = [2, 4, 6, 8, 10]\n",
        "repeats = counts * 2\n",
        "print(repeats)"
      ]
    },
    {
      "cell_type": "markdown",
      "id": "f7543a31",
      "metadata": {
        "id": "f7543a31"
      },
      "source": [
        "## Section 5: Repeating Actions with Loops"
      ]
    },
    {
      "cell_type": "markdown",
      "id": "cf662183",
      "metadata": {
        "id": "cf662183"
      },
      "source": [
        "#### question 1"
      ]
    },
    {
      "cell_type": "code",
      "execution_count": null,
      "id": "5efccf9f",
      "metadata": {
        "id": "5efccf9f",
        "outputId": "a3bbd1ea-3963-4957-ef92-37d7b709aa02"
      },
      "outputs": [
        {
          "name": "stdout",
          "output_type": "stream",
          "text": [
            "1\n",
            "2\n",
            "3\n"
          ]
        }
      ],
      "source": [
        "for i in range(1,4):\n",
        "    print(i)"
      ]
    },
    {
      "cell_type": "markdown",
      "id": "6ca1c29c",
      "metadata": {
        "id": "6ca1c29c"
      },
      "source": [
        "#### question 2"
      ]
    },
    {
      "cell_type": "markdown",
      "id": "cb68ad6f",
      "metadata": {
        "id": "cb68ad6f"
      },
      "source": [
        "iterates 6 times"
      ]
    },
    {
      "cell_type": "markdown",
      "id": "4b934ba4",
      "metadata": {
        "id": "4b934ba4"
      },
      "source": [
        "#### question 3"
      ]
    },
    {
      "cell_type": "code",
      "execution_count": null,
      "id": "fdcd5478",
      "metadata": {
        "id": "fdcd5478",
        "outputId": "f64b9ed3-12a0-4674-a502-52f2c7175ba5"
      },
      "outputs": [
        {
          "name": "stdout",
          "output_type": "stream",
          "text": [
            "125\n"
          ]
        }
      ],
      "source": [
        "x = 5\n",
        "for i in range(1,3):\n",
        "    x *= 5\n",
        "print(x)"
      ]
    },
    {
      "cell_type": "markdown",
      "id": "1381a628",
      "metadata": {
        "id": "1381a628"
      },
      "source": [
        "#### question 4"
      ]
    },
    {
      "cell_type": "code",
      "execution_count": null,
      "id": "867fbbe0",
      "metadata": {
        "id": "867fbbe0",
        "outputId": "259c0ec5-61d7-4f0a-df96-cf84e64f8c1f"
      },
      "outputs": [
        {
          "name": "stdout",
          "output_type": "stream",
          "text": [
            "562\n"
          ]
        }
      ],
      "source": [
        "list = [124, 402, 36]\n",
        "sum = 0\n",
        "for element in list:\n",
        "    sum += element\n",
        "print(sum)"
      ]
    },
    {
      "cell_type": "markdown",
      "id": "82dc91ed",
      "metadata": {
        "id": "82dc91ed"
      },
      "source": [
        "#### question 5"
      ]
    },
    {
      "cell_type": "code",
      "execution_count": null,
      "id": "5d24ba7f",
      "metadata": {
        "id": "5d24ba7f"
      },
      "outputs": [],
      "source": [
        "y = 0\n",
        "coefs = []\n",
        "for idx,coef in enumerate(coefs):\n",
        "    y = y + coef * x**idx"
      ]
    },
    {
      "cell_type": "markdown",
      "id": "bd348c64",
      "metadata": {
        "id": "bd348c64"
      },
      "source": [
        "## Section 6: Analyzing Data from Multiple Files"
      ]
    },
    {
      "cell_type": "markdown",
      "id": "bc3eab37",
      "metadata": {
        "id": "bc3eab37"
      },
      "source": [
        "#### question 1"
      ]
    },
    {
      "cell_type": "code",
      "execution_count": null,
      "id": "e7cdefc8",
      "metadata": {
        "id": "e7cdefc8"
      },
      "outputs": [],
      "source": [
        "import glob"
      ]
    },
    {
      "cell_type": "code",
      "execution_count": null,
      "id": "5dd1ec46",
      "metadata": {
        "id": "5dd1ec46",
        "outputId": "2c0aa69c-1f49-4b13-a87c-eae92b15814e"
      },
      "outputs": [
        {
          "data": {
            "image/png": "[encoded data removed]",
            "text/plain": [
              "<Figure size 1000x300 with 1 Axes>"
            ]
          },
          "metadata": {},
          "output_type": "display_data"
        }
      ],
      "source": [
        "files = sorted(glob.glob('inflammation*.csv'))\n",
        "data0 = numpy.loadtxt(fname=files[0],delimiter=',')\n",
        "data1 = numpy.loadtxt(fname=files[1],delimiter=',')\n",
        "fig = plt.figure(figsize=(10,3))\n",
        "plt.plot(numpy.mean(data0, axis=0) - numpy.mean(data1, axis=0))\n",
        "plt.ylabel('difference in average inflammations')\n",
        "fig.tight_layout()\n",
        "plt.show()"
      ]
    },
    {
      "cell_type": "markdown",
      "id": "c800c2fa",
      "metadata": {
        "id": "c800c2fa"
      },
      "source": [
        "#### question 2"
      ]
    },
    {
      "cell_type": "code",
      "execution_count": null,
      "id": "838d9f78",
      "metadata": {
        "id": "838d9f78",
        "outputId": "5e719405-95b4-49c9-c961-c73cb1eeff9c"
      },
      "outputs": [
        {
          "data": {
            "image/png": "[encoded data removed]",
            "text/plain": [
              "<Figure size 1000x300 with 3 Axes>"
            ]
          },
          "metadata": {},
          "output_type": "display_data"
        }
      ],
      "source": [
        "filenames = glob.glob('inflammation*.csv')\n",
        "composite_data = numpy.zeros((60,40))\n",
        "for filename in filenames:\n",
        "    # sum each new file's data into composite_data as it's read\n",
        "    data = numpy.loadtxt(fname = filename, delimiter=',')\n",
        "    composite_data = composite_data + data\n",
        "# and then divide the composite_data by number of samples\n",
        "composite_data = composite_data / len(filenames)\n",
        "\n",
        "fig = plt.figure(figsize=(10,3))\n",
        "axes1 = fig.add_subplot(1, 3, 1)\n",
        "axes2 = fig.add_subplot(1, 3, 2)\n",
        "axes3 = fig.add_subplot(1, 3, 3)\n",
        "\n",
        "axes1.set_ylabel('average')\n",
        "axes1.plot(numpy.mean(composite_data, axis=0))\n",
        "\n",
        "axes2.set_ylabel('max')\n",
        "axes2.plot(numpy.amax(composite_data, axis=0))\n",
        "\n",
        "axes3.set_ylabel('min')\n",
        "axes3.plot(numpy.amin(composite_data, axis=0))\n",
        "\n",
        "fig.tight_layout()\n",
        "plt.show()"
      ]
    },
    {
      "cell_type": "markdown",
      "id": "d5f0a759",
      "metadata": {
        "id": "d5f0a759"
      },
      "source": [
        "## Section 7: Making Choices"
      ]
    },
    {
      "cell_type": "markdown",
      "id": "ca45d5b5",
      "metadata": {
        "id": "ca45d5b5"
      },
      "source": [
        "#### question 1"
      ]
    },
    {
      "cell_type": "markdown",
      "id": "56f92165",
      "metadata": {
        "id": "56f92165"
      },
      "source": [
        "'C' is printed because the first two conditions are false and the third is true"
      ]
    },
    {
      "cell_type": "markdown",
      "id": "8ff41082",
      "metadata": {
        "id": "8ff41082"
      },
      "source": [
        "#### question 2"
      ]
    },
    {
      "cell_type": "code",
      "execution_count": null,
      "id": "64d34771",
      "metadata": {
        "id": "64d34771",
        "outputId": "1bb3b6b1-74fd-4bf3-828d-b7de704c855e"
      },
      "outputs": [
        {
          "name": "stdout",
          "output_type": "stream",
          "text": [
            "word is true\n",
            "non-empty list is true\n",
            "one is true\n"
          ]
        }
      ],
      "source": [
        "if '':\n",
        "    print('empty string is true')\n",
        "if 'word':\n",
        "    print('word is true')\n",
        "if []:\n",
        "    print('empty list is true')\n",
        "if [1, 2, 3]:\n",
        "    print('non-empty list is true')\n",
        "if 0:\n",
        "    print('zero is true')\n",
        "if 1:\n",
        "    print('one is true')"
      ]
    },
    {
      "cell_type": "markdown",
      "id": "e8098110",
      "metadata": {
        "id": "e8098110"
      },
      "source": [
        "0=false and 1=true; this can be generalized to mean that the presence of something is true, and the corresponding absence of that thing is false\n",
        "\n",
        "for example, the presence of a word is true whereas an empty string is false; a list with contents is true, whereas an empty list is false"
      ]
    },
    {
      "cell_type": "markdown",
      "id": "76f90a4f",
      "metadata": {
        "id": "76f90a4f"
      },
      "source": [
        "#### question 3"
      ]
    },
    {
      "cell_type": "code",
      "execution_count": null,
      "id": "ed1866fa",
      "metadata": {
        "id": "ed1866fa",
        "outputId": "258f75eb-d9c9-4b96-99dc-f576fc155e07"
      },
      "outputs": [
        {
          "name": "stdout",
          "output_type": "stream",
          "text": [
            "empty string is not true\n",
            "not not True is true\n"
          ]
        }
      ],
      "source": [
        "if not '':\n",
        "    print('empty string is not true')\n",
        "if not 'word':\n",
        "    print('word is not true')\n",
        "if not not True:\n",
        "    print('not not True is true')"
      ]
    },
    {
      "cell_type": "code",
      "execution_count": null,
      "id": "e6ed7548",
      "metadata": {
        "id": "e6ed7548",
        "outputId": "be1a40e8-c98f-45df-862e-036a98a9e677"
      },
      "outputs": [
        {
          "name": "stdout",
          "output_type": "stream",
          "text": [
            "empty string not true\n",
            "empty list not true\n",
            "empty dictionary not true\n"
          ]
        }
      ],
      "source": [
        "emptystring = ''\n",
        "emptylist = []\n",
        "emptydict = {}\n",
        "if not emptystring:\n",
        "    print('empty string not true')\n",
        "if not emptylist:\n",
        "    print('empty list not true')\n",
        "if not emptydict:\n",
        "    print('empty dictionary not true')"
      ]
    },
    {
      "cell_type": "markdown",
      "id": "009db423",
      "metadata": {
        "id": "009db423"
      },
      "source": [
        "#### question 4"
      ]
    },
    {
      "cell_type": "code",
      "execution_count": null,
      "id": "4936d633",
      "metadata": {
        "id": "4936d633",
        "outputId": "0fe092b2-e18e-48bc-eb4d-d8e5e3818d35"
      },
      "outputs": [
        {
          "name": "stdout",
          "output_type": "stream",
          "text": [
            "False\n"
          ]
        }
      ],
      "source": [
        "a = 10\n",
        "b = 15\n",
        "if abs(a-b) <= 0.1*abs(b):\n",
        "    print('True')\n",
        "else:\n",
        "    print('False')"
      ]
    },
    {
      "cell_type": "markdown",
      "id": "d4adfd3b",
      "metadata": {
        "id": "d4adfd3b"
      },
      "source": [
        "#### question 5"
      ]
    },
    {
      "cell_type": "code",
      "execution_count": null,
      "id": "8787c388",
      "metadata": {
        "id": "8787c388",
        "outputId": "1c420880-ef9b-4c08-fb9b-b02006595610"
      },
      "outputs": [
        {
          "name": "stdout",
          "output_type": "stream",
          "text": [
            "86\n",
            "-33\n"
          ]
        }
      ],
      "source": [
        "list1 = [10,12,15,19,-7,-1,-20,19,11,-5,0]\n",
        "pos = 0\n",
        "neg = 0\n",
        "for num in list1:\n",
        "    if num == abs(num):\n",
        "        pos += num\n",
        "    elif num != abs(num):\n",
        "        neg += num\n",
        "print(pos)\n",
        "print(neg)"
      ]
    },
    {
      "cell_type": "markdown",
      "id": "c6e6ee1b",
      "metadata": {
        "id": "c6e6ee1b"
      },
      "source": [
        "#### question 6"
      ]
    },
    {
      "cell_type": "code",
      "execution_count": null,
      "id": "49eb48fc",
      "metadata": {
        "id": "49eb48fc",
        "outputId": "f3759001-824b-4c0a-bb2f-4bd3fb306892"
      },
      "outputs": [
        {
          "name": "stdout",
          "output_type": "stream",
          "text": [
            "['inflammation-01.csv', 'inflammation-02.csv']\n",
            "['small-01.csv', 'small-02.csv']\n",
            "['myscript.py']\n"
          ]
        }
      ],
      "source": [
        "filenames = ['inflammation-01.csv',\n",
        "         'myscript.py',\n",
        "         'inflammation-02.csv',\n",
        "         'small-01.csv',\n",
        "         'small-02.csv']\n",
        "large_files = []\n",
        "small_files = []\n",
        "other_files = []\n",
        "\n",
        "for name in filenames:\n",
        "    if name.startswith('inf'):\n",
        "        large_files.append(name)\n",
        "    elif name.startswith('small'):\n",
        "        small_files.append(name)\n",
        "    else:\n",
        "        other_files.append(name)\n",
        "\n",
        "print(large_files)\n",
        "print(small_files)\n",
        "print(other_files)"
      ]
    },
    {
      "cell_type": "markdown",
      "id": "44fcb511",
      "metadata": {
        "id": "44fcb511"
      },
      "source": [
        "#### question 7"
      ]
    },
    {
      "cell_type": "code",
      "execution_count": null,
      "id": "059a29a7",
      "metadata": {
        "id": "059a29a7",
        "outputId": "ba27c8e8-8ff2-4c93-c42f-3377e1eeee54"
      },
      "outputs": [
        {
          "name": "stdout",
          "output_type": "stream",
          "text": [
            "10\n"
          ]
        }
      ],
      "source": [
        "vowels = ['a','e','i','o','u','A','E','I','O','U']\n",
        "numvowels = 0\n",
        "string = 'ksdjfklnoew;inoidvnowfpowe;waekjbgkj'\n",
        "for char in string:\n",
        "    if char in vowels:\n",
        "        numvowels += 1\n",
        "print(numvowels)"
      ]
    },
    {
      "cell_type": "markdown",
      "id": "f84a1f4c",
      "metadata": {
        "id": "f84a1f4c"
      },
      "source": [
        "## Section 8: Creating Functions"
      ]
    },
    {
      "cell_type": "markdown",
      "id": "e475b8c9",
      "metadata": {
        "id": "e475b8c9"
      },
      "source": [
        "#### question 1"
      ]
    },
    {
      "cell_type": "code",
      "execution_count": null,
      "id": "a92d30cf",
      "metadata": {
        "id": "a92d30cf",
        "outputId": "b9a32942-a657-46e8-f0f0-e38519f61293"
      },
      "outputs": [
        {
          "name": "stdout",
          "output_type": "stream",
          "text": [
            "wrapmiddlewrap\n"
          ]
        }
      ],
      "source": [
        "def fence(original, wrapper):\n",
        "    return wrapper+original+wrapper\n",
        "print(fence('middle','wrap'))"
      ]
    },
    {
      "cell_type": "markdown",
      "id": "0e9a20ff",
      "metadata": {
        "id": "0e9a20ff"
      },
      "source": [
        "#### question 2"
      ]
    },
    {
      "cell_type": "markdown",
      "id": "bab6f51e",
      "metadata": {
        "id": "bab6f51e"
      },
      "source": [
        "this will print 10 and then none because the function is not returning any value; however, it still prints 10 first because by calling the function you're still printing the sum"
      ]
    },
    {
      "cell_type": "markdown",
      "id": "641b2556",
      "metadata": {
        "id": "641b2556"
      },
      "source": [
        "#### question 3"
      ]
    },
    {
      "cell_type": "code",
      "execution_count": null,
      "id": "db9fecce",
      "metadata": {
        "id": "db9fecce",
        "outputId": "5f0760df-8bcd-4e54-b91b-225a96146700"
      },
      "outputs": [
        {
          "name": "stdout",
          "output_type": "stream",
          "text": [
            "hn\n"
          ]
        }
      ],
      "source": [
        "def outer(word):\n",
        "    return word[0]+word[-1]\n",
        "print(outer('hydrogen'))"
      ]
    },
    {
      "cell_type": "markdown",
      "id": "d93e76c7",
      "metadata": {
        "id": "d93e76c7"
      },
      "source": [
        "#### question 4"
      ]
    },
    {
      "cell_type": "code",
      "execution_count": null,
      "id": "5540a937",
      "metadata": {
        "id": "5540a937"
      },
      "outputs": [],
      "source": [
        "def rescale(array):\n",
        "    \"\"\"\n",
        "    this function takes an array as input and outputs an array rescaled so that 0 corresponds to the min value of the input array and 1 corresponds to the max value of the input array\n",
        "    \"\"\"\n",
        "    L = numpy.amin(array)\n",
        "    H = numpy.amax(array)\n",
        "    rescaled_array = (array - L) / (H - L)\n",
        "    return rescaled_array"
      ]
    },
    {
      "cell_type": "markdown",
      "id": "b478dccd",
      "metadata": {
        "id": "b478dccd"
      },
      "source": [
        "#### question 5"
      ]
    },
    {
      "cell_type": "code",
      "execution_count": null,
      "id": "9e73b2ed",
      "metadata": {
        "id": "9e73b2ed",
        "outputId": "7885959f-adaa-43df-b5ed-8c1672322ba4"
      },
      "outputs": [
        {
          "data": {
            "text/plain": [
              "array([0.        , 0.11111111, 0.22222222, 0.33333333, 0.44444444,\n",
              "       0.55555556, 0.66666667, 0.77777778, 0.88888889, 1.        ])"
            ]
          },
          "execution_count": 44,
          "metadata": {},
          "output_type": "execute_result"
        }
      ],
      "source": [
        "rescale(numpy.arange(10.0))"
      ]
    },
    {
      "cell_type": "code",
      "execution_count": null,
      "id": "9a7394c7",
      "metadata": {
        "id": "9a7394c7",
        "outputId": "fedfe0fe-13cd-4ba0-e41f-8c6937e1b0d0"
      },
      "outputs": [
        {
          "data": {
            "text/plain": [
              "array([0.  , 0.25, 0.5 , 0.75, 1.  ])"
            ]
          },
          "execution_count": 45,
          "metadata": {},
          "output_type": "execute_result"
        }
      ],
      "source": [
        "rescale(numpy.linspace(0, 100, 5))"
      ]
    },
    {
      "cell_type": "markdown",
      "id": "7781be4b",
      "metadata": {
        "id": "7781be4b"
      },
      "source": [
        "#### question 6"
      ]
    },
    {
      "cell_type": "code",
      "execution_count": null,
      "id": "595f5c97",
      "metadata": {
        "id": "595f5c97"
      },
      "outputs": [],
      "source": [
        "def rescale(array, low_bound=0.0, up_bound=1.0):\n",
        "    \"\"\"\n",
        "    this function takes an array as input and outputs an array rescaled so that 0 corresponds to the min value of the input array and 1 corresponds to the max value of the input array\n",
        "    \"\"\"\n",
        "    L = numpy.amin(array)\n",
        "    H = numpy.amax(array)\n",
        "    array2 = (array - L) / (H - L)\n",
        "    array3 = array2 * (up_bound - low_bound) + low_bound\n",
        "    return array3"
      ]
    },
    {
      "cell_type": "markdown",
      "id": "6ba93473",
      "metadata": {
        "id": "6ba93473"
      },
      "source": [
        "#### question 7"
      ]
    },
    {
      "cell_type": "markdown",
      "id": "238bd222",
      "metadata": {
        "id": "238bd222"
      },
      "source": [
        "259.81666666666666\n",
        "278.15\n",
        "273.15\n",
        "0\n",
        "\n",
        "The three function calls return the value of the k variable that is local to the function, the print(k) prints the value of the global k variable"
      ]
    },
    {
      "cell_type": "markdown",
      "id": "3b229258",
      "metadata": {
        "id": "3b229258"
      },
      "source": [
        "#### question 8"
      ]
    },
    {
      "cell_type": "code",
      "execution_count": null,
      "id": "1d9b502b",
      "metadata": {
        "id": "1d9b502b",
        "outputId": "cda532cc-ffb1-478d-cfee-3ef5a281623b"
      },
      "outputs": [
        {
          "ename": "SyntaxError",
          "evalue": "non-default argument follows default argument (3370621776.py, line 1)",
          "output_type": "error",
          "traceback": [
            "\u001b[0;36m  Cell \u001b[0;32mIn[47], line 1\u001b[0;36m\u001b[0m\n\u001b[0;31m    def numbers(one, two=2, three, four=4):\u001b[0m\n\u001b[0m                            ^\u001b[0m\n\u001b[0;31mSyntaxError\u001b[0m\u001b[0;31m:\u001b[0m non-default argument follows default argument\n"
          ]
        }
      ],
      "source": [
        "def numbers(one, two=2, three, four=4):\n",
        "    n = str(one) + str(two) + str(three) + str(four)\n",
        "    return n\n",
        "\n",
        "print(numbers(1, three=3))\n",
        "\n",
        "# running this chunk will throw an error because parameters with default values must come after all parameters without defaults"
      ]
    },
    {
      "cell_type": "code",
      "execution_count": null,
      "id": "367dc2d3",
      "metadata": {
        "id": "367dc2d3",
        "outputId": "c341879d-f343-4db5-9f9c-36fe2f3b05d5"
      },
      "outputs": [
        {
          "name": "stdout",
          "output_type": "stream",
          "text": [
            "a:  -1 b:  2 c: 6\n"
          ]
        }
      ],
      "source": [
        "def func(a, b=3, c=6):\n",
        "    print('a: ', a, 'b: ', b, 'c:', c)\n",
        "\n",
        "func(-1, 2)\n",
        "\n",
        "# this will display 'a: -1 b: 2 c: 6'"
      ]
    },
    {
      "cell_type": "markdown",
      "id": "78724dfb",
      "metadata": {
        "id": "78724dfb"
      },
      "source": [
        "#### question 9"
      ]
    },
    {
      "cell_type": "code",
      "execution_count": null,
      "id": "ef1a1033",
      "metadata": {
        "id": "ef1a1033"
      },
      "outputs": [],
      "source": [
        "# i will revise the following function:\n",
        "def outer(word):\n",
        "    return word[0]+word[-1]\n",
        "\n",
        "# to improve the readability, i can add a docstring to explain what the function does, and i can rename components of the function to be more intuitive\n",
        "\n",
        "def first_and_last_characters(string):\n",
        "    \"\"\"\n",
        "    This function takes a string as input and returns a string of length 2 containing the first and last characters of the inputted string.\n",
        "    \"\"\"\n",
        "    return string[0]+string[-1]"
      ]
    },
    {
      "cell_type": "markdown",
      "id": "c245bdc7",
      "metadata": {
        "id": "c245bdc7"
      },
      "source": [
        "## Section 9: Errors and Exceptions"
      ]
    },
    {
      "cell_type": "markdown",
      "id": "8224c321",
      "metadata": {
        "id": "8224c321"
      },
      "source": [
        "#### question 1"
      ]
    },
    {
      "cell_type": "markdown",
      "id": "29625b40",
      "metadata": {
        "id": "29625b40"
      },
      "source": [
        "1. 3 levels\n",
        "2. print_message\n",
        "3. line 13\n",
        "4. IndexError\n",
        "5. list index out of range"
      ]
    },
    {
      "cell_type": "markdown",
      "id": "70c5757c",
      "metadata": {
        "id": "70c5757c"
      },
      "source": [
        "#### question 2"
      ]
    },
    {
      "cell_type": "markdown",
      "id": "0054c98b",
      "metadata": {
        "id": "0054c98b"
      },
      "source": [
        "1. syntax error because the function is missing ( )\n",
        "2. syntax\n",
        "3. done; threw an indentation error after fixing first error, so had to fix indentation"
      ]
    },
    {
      "cell_type": "code",
      "execution_count": null,
      "id": "5eefd60b",
      "metadata": {
        "id": "5eefd60b",
        "outputId": "ef909f32-d2e1-4960-a37f-7e907a137b6f"
      },
      "outputs": [
        {
          "ename": "SyntaxError",
          "evalue": "expected '(' (1642174910.py, line 2)",
          "output_type": "error",
          "traceback": [
            "\u001b[0;36m  Cell \u001b[0;32mIn[50], line 2\u001b[0;36m\u001b[0m\n\u001b[0;31m    def another_function\u001b[0m\n\u001b[0m                        ^\u001b[0m\n\u001b[0;31mSyntaxError\u001b[0m\u001b[0;31m:\u001b[0m expected '('\n"
          ]
        }
      ],
      "source": [
        "# function with error:\n",
        "def another_function\n",
        "  print('Syntax errors are annoying.')\n",
        "   print('But at least Python tells us about them!')\n",
        "  print('So they are usually not too hard to fix.')"
      ]
    },
    {
      "cell_type": "code",
      "execution_count": null,
      "id": "13df372b",
      "metadata": {
        "id": "13df372b"
      },
      "outputs": [],
      "source": [
        "# fixed function:\n",
        "def another_function():\n",
        "    print('Syntax errors are annoying.')\n",
        "    print('But at least Python tells us about them!')\n",
        "    print('So they are usually not too hard to fix.')"
      ]
    },
    {
      "cell_type": "markdown",
      "id": "068aa6b5",
      "metadata": {
        "id": "068aa6b5"
      },
      "source": [
        "#### question 3"
      ]
    },
    {
      "cell_type": "markdown",
      "id": "9cb7c55b",
      "metadata": {
        "id": "9cb7c55b"
      },
      "source": [
        "1. 'message' is undefined, 'Number' undefined as well because 'number' is lowercase, 'a' not in quotes\n",
        "2. all three of those issues are present\n",
        "3. done"
      ]
    },
    {
      "cell_type": "code",
      "execution_count": null,
      "id": "5fd7cfbe",
      "metadata": {
        "id": "5fd7cfbe",
        "outputId": "c2ce4d04-b0e4-4fa6-fa07-dbc11b718c0f"
      },
      "outputs": [
        {
          "ename": "NameError",
          "evalue": "name 'Number' is not defined",
          "output_type": "error",
          "traceback": [
            "\u001b[0;31m---------------------------------------------------------------------------\u001b[0m",
            "\u001b[0;31mNameError\u001b[0m                                 Traceback (most recent call last)",
            "Cell \u001b[0;32mIn[52], line 4\u001b[0m\n\u001b[1;32m      1\u001b[0m \u001b[38;5;66;03m# loop with errors:\u001b[39;00m\n\u001b[1;32m      2\u001b[0m \u001b[38;5;28;01mfor\u001b[39;00m number \u001b[38;5;129;01min\u001b[39;00m \u001b[38;5;28mrange\u001b[39m(\u001b[38;5;241m10\u001b[39m):\n\u001b[1;32m      3\u001b[0m     \u001b[38;5;66;03m# use a if the number is a multiple of 3, otherwise use b\u001b[39;00m\n\u001b[0;32m----> 4\u001b[0m     \u001b[38;5;28;01mif\u001b[39;00m (Number \u001b[38;5;241m%\u001b[39m \u001b[38;5;241m3\u001b[39m) \u001b[38;5;241m==\u001b[39m \u001b[38;5;241m0\u001b[39m:\n\u001b[1;32m      5\u001b[0m         message \u001b[38;5;241m=\u001b[39m message \u001b[38;5;241m+\u001b[39m a\n\u001b[1;32m      6\u001b[0m     \u001b[38;5;28;01melse\u001b[39;00m:\n",
            "\u001b[0;31mNameError\u001b[0m: name 'Number' is not defined"
          ]
        }
      ],
      "source": [
        "# loop with errors:\n",
        "for number in range(10):\n",
        "    # use a if the number is a multiple of 3, otherwise use b\n",
        "    if (Number % 3) == 0:\n",
        "        message = message + a\n",
        "    else:\n",
        "        message = message + 'b'\n",
        "print(message)"
      ]
    },
    {
      "cell_type": "code",
      "execution_count": null,
      "id": "63730b77",
      "metadata": {
        "id": "63730b77",
        "outputId": "30830fe7-2a18-4d78-ae0c-000595eb1650"
      },
      "outputs": [
        {
          "name": "stdout",
          "output_type": "stream",
          "text": [
            "abbabbabba\n"
          ]
        }
      ],
      "source": [
        "# fixed loop:\n",
        "message = ''\n",
        "for number in range(10):\n",
        "    # use a if the number is a multiple of 3, otherwise use b\n",
        "    if (number % 3) == 0:\n",
        "        message = message + 'a'\n",
        "    else:\n",
        "        message = message + 'b'\n",
        "print(message)"
      ]
    },
    {
      "cell_type": "markdown",
      "id": "e6f4e491",
      "metadata": {
        "id": "e6f4e491"
      },
      "source": [
        "#### question 4"
      ]
    },
    {
      "cell_type": "markdown",
      "id": "9b2fdc2c",
      "metadata": {
        "id": "9b2fdc2c"
      },
      "source": [
        "1. index out of range\n",
        "2. IndexError\n",
        "3. done"
      ]
    },
    {
      "cell_type": "code",
      "execution_count": null,
      "id": "f696b3c6",
      "metadata": {
        "id": "f696b3c6",
        "outputId": "e3055bea-89d0-4df6-fec5-bc7a20558092"
      },
      "outputs": [
        {
          "ename": "IndexError",
          "evalue": "list index out of range",
          "output_type": "error",
          "traceback": [
            "\u001b[0;31m---------------------------------------------------------------------------\u001b[0m",
            "\u001b[0;31mIndexError\u001b[0m                                Traceback (most recent call last)",
            "Cell \u001b[0;32mIn[54], line 3\u001b[0m\n\u001b[1;32m      1\u001b[0m \u001b[38;5;66;03m# chunk with error:\u001b[39;00m\n\u001b[1;32m      2\u001b[0m seasons \u001b[38;5;241m=\u001b[39m [\u001b[38;5;124m'\u001b[39m\u001b[38;5;124mSpring\u001b[39m\u001b[38;5;124m'\u001b[39m, \u001b[38;5;124m'\u001b[39m\u001b[38;5;124mSummer\u001b[39m\u001b[38;5;124m'\u001b[39m, \u001b[38;5;124m'\u001b[39m\u001b[38;5;124mFall\u001b[39m\u001b[38;5;124m'\u001b[39m, \u001b[38;5;124m'\u001b[39m\u001b[38;5;124mWinter\u001b[39m\u001b[38;5;124m'\u001b[39m]\n\u001b[0;32m----> 3\u001b[0m \u001b[38;5;28mprint\u001b[39m(\u001b[38;5;124m'\u001b[39m\u001b[38;5;124mMy favorite season is \u001b[39m\u001b[38;5;124m'\u001b[39m, seasons[\u001b[38;5;241m4\u001b[39m])\n",
            "\u001b[0;31mIndexError\u001b[0m: list index out of range"
          ]
        }
      ],
      "source": [
        "# chunk with error:\n",
        "seasons = ['Spring', 'Summer', 'Fall', 'Winter']\n",
        "print('My favorite season is ', seasons[4])"
      ]
    },
    {
      "cell_type": "code",
      "execution_count": null,
      "id": "7b6c9e92",
      "metadata": {
        "id": "7b6c9e92",
        "outputId": "29030a8c-a6bf-4c30-f80c-72671dda7668"
      },
      "outputs": [
        {
          "name": "stdout",
          "output_type": "stream",
          "text": [
            "My favorite season is  Winter\n"
          ]
        }
      ],
      "source": [
        "# fixed chunk:\n",
        "seasons = ['Spring', 'Summer', 'Fall', 'Winter']\n",
        "print('My favorite season is ', seasons[3])"
      ]
    },
    {
      "cell_type": "markdown",
      "id": "198a2b33",
      "metadata": {
        "id": "198a2b33"
      },
      "source": [
        "## Section 10: Defensive Programming"
      ]
    },
    {
      "cell_type": "markdown",
      "id": "40b55da1",
      "metadata": {
        "id": "40b55da1"
      },
      "source": [
        "#### question 1"
      ]
    },
    {
      "cell_type": "markdown",
      "id": "3fe1dd86",
      "metadata": {
        "id": "3fe1dd86"
      },
      "source": [
        "precondition:\n",
        "assert len(list_of_nums) > 0\n",
        "postcondition:\n",
        "assert numpy.amin(list_of_nums) <= average(list_of_nums) <= numpy.amax(list_of_nums)"
      ]
    },
    {
      "cell_type": "markdown",
      "id": "3aad7b7b",
      "metadata": {
        "id": "3aad7b7b"
      },
      "source": [
        "#### question 2"
      ]
    },
    {
      "cell_type": "markdown",
      "id": "19220f5b",
      "metadata": {
        "id": "19220f5b"
      },
      "source": [
        "The first assertion checks that the list is not empty; the next assertion ensures that all values in the list are integers or can be coerced into integers; the last assertion checks that the total of the list is greater than 0.\n",
        "The following inputs will make each assertion fail, respectively:\n",
        "[]\n",
        "[1,2,'m']\n",
        "[-5,1]"
      ]
    },
    {
      "cell_type": "markdown",
      "id": "5b0d4bc5",
      "metadata": {
        "id": "5b0d4bc5"
      },
      "source": [
        "## Section 11: Debugging"
      ]
    },
    {
      "cell_type": "markdown",
      "id": "e0016152",
      "metadata": {
        "id": "e0016152"
      },
      "source": [
        "#### question 2"
      ]
    },
    {
      "cell_type": "markdown",
      "id": "208b4da8",
      "metadata": {
        "id": "208b4da8"
      },
      "source": [
        "First off, the for loop assigns weight,height to the values in patients[0] every iteration; this explains why all bmi values are the same. Additionally, the bmi variable in the for loop is being calculated by dividing height by weight; this is the inverse of the intended calculation, which explains the tiny values. I would suggest adding print statements throughout the chunk so that it is clear what value each variable holds at any given point. A debugged version of the chunk is shown below:"
      ]
    },
    {
      "cell_type": "code",
      "execution_count": null,
      "id": "e0ff4619",
      "metadata": {
        "id": "e0ff4619",
        "outputId": "ab51597c-8e3a-4e7b-c50a-4b861b12a29a"
      },
      "outputs": [
        {
          "name": "stdout",
          "output_type": "stream",
          "text": [
            "Patient's BMI is: 21.604938271604937\n",
            "Patient's BMI is: 22.1606648199446\n",
            "Patient's BMI is: 51.90311418685122\n"
          ]
        }
      ],
      "source": [
        "patients = [[70, 1.8], [80, 1.9], [150, 1.7]]\n",
        "\n",
        "def calculate_bmi(weight, height):\n",
        "    return weight / (height ** 2)\n",
        "\n",
        "for patient in patients:\n",
        "    weight = patient[0]\n",
        "    height = patient[1]\n",
        "    bmi = calculate_bmi(weight, height)\n",
        "    print(\"Patient's BMI is:\", bmi)"
      ]
    }
  ],
  "metadata": {
    "kernelspec": {
      "display_name": "Python 3 (ipykernel)",
      "language": "python",
      "name": "python3"
    },
    "language_info": {
      "codemirror_mode": {
        "name": "ipython",
        "version": 3
      },
      "file_extension": ".py",
      "mimetype": "text/x-python",
      "name": "python",
      "nbconvert_exporter": "python",
      "pygments_lexer": "ipython3",
      "version": "3.11.4"
    },
    "colab": {
      "provenance": []
    }
  },
  "nbformat": 4,
  "nbformat_minor": 5
}